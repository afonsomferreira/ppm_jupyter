{
 "cells": [
  {
   "cell_type": "markdown",
   "id": "3ce987c9",
   "metadata": {},
   "source": [
    "## This Jupyter notebook will show you to handle 3 dimensional data (cube: lat x lon x time)\n",
    "\n",
    "## We will load daily Chl-a data from 2009 for the Portuguese Coast:\n",
    "\n",
    "Now, we will need to import several modules/libraries that are essential for nearly every scientific work in Python."
   ]
  },
  {
   "cell_type": "code",
   "execution_count": null,
   "id": "19caca5d",
   "metadata": {},
   "outputs": [],
   "source": [
    "import os #change folders\n",
    "import numpy as np # perform calculations and basic math\n",
    "import matplotlib.pyplot as plt # plot data\n",
    "import pandas as pd # work with dataframes,tables, spreadsheets, etc.\n",
    "import netCDF4 as nc4 # work with netcdf files, the standard file for satellite 2D and 3D data\n",
    "import cartopy #work with geographical projections and maps\n",
    "#import datetime # this library is also useful for working with dates, convert dates, etc."
   ]
  },
  {
   "cell_type": "markdown",
   "id": "7b3441ab",
   "metadata": {},
   "source": [
    "## First, lets load the 3D dataset using the netCDF4 module."
   ]
  },
  {
   "cell_type": "code",
   "execution_count": null,
   "id": "620c53a8",
   "metadata": {},
   "outputs": [],
   "source": [
    "# Let's open the first image (31st August 2005)\n",
    "file = 'chl_2009.nc' #write the name of the file\n",
    "chl_2009 = nc4.Dataset(file, mode='r') #open the file in python\n",
    "print(chl_2009.variables) # check variables"
   ]
  },
  {
   "cell_type": "markdown",
   "id": "5fb3aae1",
   "metadata": {},
   "source": [
    "## Notice what has changed:\n",
    "### * Chl-a now has an extra dimension with a lenght of 365 elements\n",
    "### * We now have a new variable: time (with 365 elements)\n",
    "\n",
    "Let's try printing the new variable"
   ]
  },
  {
   "cell_type": "code",
   "execution_count": null,
   "id": "47b06005",
   "metadata": {},
   "outputs": [],
   "source": [
    "print(chl_2009['time'][:]) #Date in DDMMYYYY"
   ]
  },
  {
   "cell_type": "code",
   "execution_count": null,
   "id": "56d61df4",
   "metadata": {},
   "outputs": [],
   "source": [
    "# Extracting variables\n",
    "lon = np.array(chl_2009['longitude'])\n",
    "lat = np.array(chl_2009['latitude'])\n",
    "chl = np.array(chl_2009['Chl-a'])\n",
    "dates = np.array(chl_2009['time'])"
   ]
  },
  {
   "cell_type": "markdown",
   "id": "b67cd109",
   "metadata": {},
   "source": [
    "## We now have satellite images for each day of the year 2009!\n",
    "## That means we have 365 2D datasets similar to what we saw in the previous exercise\n",
    "\n",
    "### Let's try:\n",
    "* Calculating the yearly mean Chl-a map\n",
    "* Calculating the average Chl-a for March\n",
    "* Checking how March deviates from the yearly average"
   ]
  },
  {
   "cell_type": "code",
   "execution_count": null,
   "id": "9962f07a",
   "metadata": {},
   "outputs": [],
   "source": [
    "# Calculating the yearly average!\n",
    "chl_2009mean = np.nanmean(chl, 2)\n",
    "# numpy.nanmean handles missing data\n",
    "# If you don't have missing data, you can use just numpy.mean\n",
    "# The 2 corresponds to the dimension on which you are want to calculate the mean. We want to calculate the average\n",
    "# along a period of time and time is the third dimension (LAT X LON X TIME). Remember, in python we start at 0!"
   ]
  },
  {
   "cell_type": "markdown",
   "id": "3368baf8",
   "metadata": {},
   "source": [
    "Plot it using Cartopy and Matplotlib!"
   ]
  },
  {
   "cell_type": "code",
   "execution_count": null,
   "id": "d09e0ec5",
   "metadata": {},
   "outputs": [],
   "source": [
    "plt.figure(figsize=(6,6))\n",
    "map = plt.axes(projection=cartopy.crs.PlateCarree())\n",
    "map.coastlines(resolution='10m', color='black', linewidth=1) #add a coastline\n",
    "map.set_extent([-15, -6, 36, 45]) # set the extent of the map to avoid blank spaces\n",
    "map.add_feature(cartopy.feature.NaturalEarthFeature(category='physical', name='land', #add different color to land\n",
    "                                                    scale='10m',\n",
    "                                                    facecolor=cartopy.feature.COLORS['land']))\n",
    "f1 = map.pcolormesh(lon, lat, np.log10(chl_2009mean), vmin=np.log10(0.1),\n",
    "                    vmax=np.log10(10), cmap=plt.cm.jet)\n",
    "gl = map.gridlines(draw_labels=True, alpha=0.5, linestyle='dotted', color='black') # Add gridlines\n",
    "plt.xticks(fontsize=14) #increase size of ticks\n",
    "plt.yticks(fontsize=14)\n",
    "cbar = plt.colorbar(f1, ticks=[np.log10(0.1), np.log10(0.5), np.log10(1), np.log10(3), np.log10(10)]) #add a colorbar\n",
    "cbar.ax.set_yticklabels(['0.1', '0.5', '1', '3', '10'], fontsize=14)\n",
    "cbar.set_label('Clorophyll $\\it{a}$ (mg.m$^{-3}$)', fontsize=14) #add a label to the colorbar"
   ]
  },
  {
   "cell_type": "markdown",
   "id": "46f2866f",
   "metadata": {},
   "source": [
    "## Now let's the average Chl-a for March 2009\n",
    "\n",
    "### First, we have to find which images correspond to March by looking at the time variable!\n",
    "\n",
    "### NASA 2009 Day of the Year Calendar: https://asd.gsfc.nasa.gov/Craig.Markwardt/doy2009.html\n",
    "\n"
   ]
  },
  {
   "cell_type": "code",
   "execution_count": null,
   "id": "150988ee",
   "metadata": {},
   "outputs": [],
   "source": [
    "# Let's try it - Remember the indices starts on 0\n",
    "print(dates[59]) # 01-03-2009\n",
    "print(dates[89])# 31-03-2009\n",
    "\n",
    "# Getting chl-a data just for March\n",
    "\n",
    "chl_March2009 = chl[:, :, 59:90] # We write 90 instead of 89 because we want to include 89 (31 March)\n",
    "print(chl_March2009.shape) # Check shape to see if it's ok!"
   ]
  },
  {
   "cell_type": "code",
   "execution_count": null,
   "id": "6cfd4089",
   "metadata": {},
   "outputs": [],
   "source": [
    "## Let's calculate and plot the average Chl-a during March 2009\n",
    "chl_March2009_mean = np.nanmean(chl_March2009, 2)\n",
    "plt.figure(figsize=(6,6))\n",
    "map = plt.axes(projection=cartopy.crs.PlateCarree())\n",
    "map.coastlines(resolution='10m', color='black', linewidth=1) #add a coastline\n",
    "map.set_extent([-15, -6, 36, 45]) # set the extent of the map to avoid blank spaces\n",
    "map.add_feature(cartopy.feature.NaturalEarthFeature(category='physical', name='land', #add different color to land\n",
    "                                                    scale='10m',\n",
    "                                                    facecolor=cartopy.feature.COLORS['land']))\n",
    "f1 = map.pcolormesh(lon, lat, np.log10(chl_March2009_mean), vmin=np.log10(0.1),\n",
    "                    vmax=np.log10(10), cmap=plt.cm.jet)\n",
    "gl = map.gridlines(draw_labels=True, alpha=0.5, linestyle='dotted', color='black') # Add gridlines\n",
    "plt.xticks(fontsize=14) #increase size of ticks\n",
    "plt.yticks(fontsize=14)\n",
    "cbar = plt.colorbar(f1, ticks=[np.log10(0.1), np.log10(0.5), np.log10(1), np.log10(3), np.log10(10)]) #add a colorbar\n",
    "cbar.ax.set_yticklabels(['0.1', '0.5', '1', '3', '10'], fontsize=14)\n",
    "cbar.set_label('Clorophyll $\\it{a}$ (mg.m$^{-3}$)', fontsize=14) #add a label to the colorbar"
   ]
  },
  {
   "cell_type": "markdown",
   "id": "d9be38d3",
   "metadata": {},
   "source": [
    "## March 2009 appears to have much higher Chl-a concentrations than the average for 2009\n",
    "## Let's calculate and plot the difference between the two (anomaly)"
   ]
  },
  {
   "cell_type": "code",
   "execution_count": null,
   "id": "d5f12e75",
   "metadata": {},
   "outputs": [],
   "source": [
    "# Calculate the difference. When the sizes of the match, you can just subtract them\n",
    "chl_March2009_anomaly = chl_March2009_mean - chl_2009mean\n",
    "# Now let's plot the differences\n",
    "plt.figure(figsize=(6,6))\n",
    "map = plt.axes(projection=cartopy.crs.PlateCarree())\n",
    "map.coastlines(resolution='10m', color='black', linewidth=1) #add a coastline\n",
    "map.set_extent([-15, -6, 36, 45]) # set the extent of the map to avoid blank spaces\n",
    "map.add_feature(cartopy.feature.NaturalEarthFeature(category='physical', name='land', #add different color to land\n",
    "                                                    scale='10m',\n",
    "                                                    facecolor=cartopy.feature.COLORS['land']))\n",
    "f1 = map.pcolormesh(lon, lat, chl_March2009_anomaly, cmap=plt.cm.jet)\n",
    "gl = map.gridlines(draw_labels=True, alpha=0.5, linestyle='dotted', color='black') # Add gridlines\n",
    "plt.xticks(fontsize=14) #increase size of ticks\n",
    "plt.yticks(fontsize=14)\n",
    "cbar = plt.colorbar(f1) #add a colorbar\n",
    "#cbar.ax.set_yticklabels(['0.1', '0.5', '1', '3', '10'], fontsize=14)\n",
    "cbar.set_label('Clorophyll $\\it{a}$ (mg.m$^{-3}$)', fontsize=14) #add a label to the colorbar\n"
   ]
  },
  {
   "cell_type": "markdown",
   "id": "756a83dc",
   "metadata": {},
   "source": [
    "## Notice how the colorbar is not correctly alligned: 0 should at the center\n",
    "\n",
    "## Plus, since we are looking at the difference between March and the entire year, let's choose another colormap/palette that is more suitable.\n",
    "\n",
    "### We can see all colormaps that matplotlib offers here: https://matplotlib.org/stable/tutorials/colors/colormaps.html"
   ]
  },
  {
   "cell_type": "code",
   "execution_count": null,
   "id": "8ed7b53a",
   "metadata": {},
   "outputs": [],
   "source": [
    "# Now let's plot the differences\n",
    "plt.figure(figsize=(6,6))\n",
    "map = plt.axes(projection=cartopy.crs.PlateCarree())\n",
    "map.coastlines(resolution='10m', color='black', linewidth=1) #add a coastline\n",
    "map.set_extent([-15, -6, 36, 45]) # set the extent of the map to avoid blank spaces\n",
    "map.add_feature(cartopy.feature.NaturalEarthFeature(category='physical', name='land', #add different color to land\n",
    "                                                    scale='10m',\n",
    "                                                    facecolor=cartopy.feature.COLORS['land']))\n",
    "f1 = map.pcolormesh(lon, lat, chl_March2009_anomaly, cmap=plt.cm.seismic, vmin=-1.5, vmax=1.5)\n",
    "gl = map.gridlines(draw_labels=True, alpha=0.5, linestyle='dotted', color='black') # Add gridlines\n",
    "plt.xticks(fontsize=14) #increase size of ticks\n",
    "plt.yticks(fontsize=14)\n",
    "cbar = plt.colorbar(f1) #add a colorbar\n",
    "#cbar.ax.set_yticklabels(['0.1', '0.5', '1', '3', '10'], fontsize=14)\n",
    "cbar.set_label('Clorophyll $\\it{a}$ (mg.m$^{-3}$)', fontsize=14) #add a label to the colorbar"
   ]
  },
  {
   "cell_type": "markdown",
   "id": "119c1dbb",
   "metadata": {},
   "source": [
    "### Finally, let's go back to the beggining and convert the 3D data into a 1D timeseries.\n",
    "\n",
    "## Again, let's use the upper left corner 100 pixels (as in the previous notebook)\n",
    "\n",
    "If you remember, our chlorophyll-a data for 2009 now has the following dimensions: Lat X Lon X Time (216 X 216 X 365)\n",
    "\n",
    "Therefore, we want to extract the first 10 pixels of latitude and longitude and keep the entire time dimension"
   ]
  },
  {
   "cell_type": "code",
   "execution_count": null,
   "id": "a112eb0b",
   "metadata": {},
   "outputs": [],
   "source": [
    "chl_2009_subset = chl[0:10, 0:10, :] #notice how we leave : in the third dimension (time)\n",
    "print(chl_2009_subset.shape) # 10 * 10 * 365 pixels\n",
    "\n",
    "# Calculate the spatial average within this 10 X 10 pixel box to get a 1D dataset\n",
    "chl_2009_subset_1D = np.nanmean(chl_2009_subset, (0,1)) # Now we want to average spatially (first and second dimension)\n",
    "print(chl_2009_subset_1D.shape) # 10 * 10 * 365 pixels"
   ]
  },
  {
   "cell_type": "markdown",
   "id": "0a9f1181",
   "metadata": {},
   "source": [
    "# And plot using what we learned from the first jupyter notebook of the class!"
   ]
  },
  {
   "cell_type": "code",
   "execution_count": null,
   "id": "92715401",
   "metadata": {},
   "outputs": [],
   "source": [
    "plt.figure(figsize=(12,6))\n",
    "#plt.plot(pixel1_chla, c='r', label='Pixel 1')\n",
    "#plt.plot(chl_2009_subset_1D, c='b', linestyle='--', label='Pixel 2')\n",
    "plt.plot(chl_2009_subset_1D, c='r', linestyle='-', marker='o', markerfacecolor='k', markeredgecolor='k')\n",
    "plt.xlabel('Date', fontsize=20)\n",
    "plt.ylabel('Chl-$\\it{a}$ (mg.m$^{-3}$)', fontsize=20)\n",
    "plt.yticks(fontsize=16)\n",
    "plt.xticks(ticks= [0, 31, 59, 90, 120, 151, 181, 212, 243, 273, 304, 334],\n",
    "           labels=['Jan', 'Feb', 'Mar', 'Apr', 'May', 'Jun', 'Jul', 'Aug', 'Sep', 'Oct', 'Nov', 'Dec'], fontsize=16)\n",
    "#plt.xlim(0,len(pixel1_chla))\n",
    "#plt.ylim(0, 2)\n",
    "plt.title('2009 Chl-$\\it{a}$', fontsize=26)\n",
    "#plt.legend(loc=0, fontsize=14)\n",
    "#plt.tight_layout()"
   ]
  },
  {
   "cell_type": "markdown",
   "id": "22f405e0",
   "metadata": {},
   "source": [
    "## Notice the missing data and the spring bloom."
   ]
  }
 ],
 "metadata": {
  "kernelspec": {
   "display_name": "Python 3",
   "language": "python",
   "name": "python3"
  },
  "language_info": {
   "codemirror_mode": {
    "name": "ipython",
    "version": 3
   },
   "file_extension": ".py",
   "mimetype": "text/x-python",
   "name": "python",
   "nbconvert_exporter": "python",
   "pygments_lexer": "ipython3",
   "version": "3.8.8"
  }
 },
 "nbformat": 4,
 "nbformat_minor": 5
}
