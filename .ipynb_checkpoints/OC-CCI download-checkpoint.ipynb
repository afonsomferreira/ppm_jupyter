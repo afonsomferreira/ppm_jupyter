{
 "cells": [
  {
   "cell_type": "markdown",
   "id": "3ce987c9",
   "metadata": {},
   "source": [
    "## This Jupyter notebook lets you donwload 3D data (Lat x Lon x Time) dataset from the Ocean Colour - Climate Change Initiave (OC-CCI) using OPENDAP\n",
    "\n",
    "## Works for the OC-CCI v6 daily dataset (but you can adapt to previous versions)\n"
   ]
  },
  {
   "cell_type": "code",
   "execution_count": null,
   "id": "19caca5d",
   "metadata": {},
   "outputs": [],
   "source": [
    "import os #change folders\n",
    "import numpy as np # perform calculations and basic math\n",
    "import matplotlib.pyplot as plt # plot data\n",
    "import pandas as pd # work with dataframes,tables, spreadsheets, etc.\n",
    "import netCDF4 as nc4 # work with netcdf files, the standard file for satellite 2D and 3D data\n",
    "import cartopy #work with geographical projections and maps\n",
    "import datetime # this library is useful for working with dates, convert dates, etc.\n",
    "from pathlib import Path # Work with paths/directories"
   ]
  },
  {
   "cell_type": "markdown",
   "id": "7b3441ab",
   "metadata": {},
   "source": [
    "## Define all the functions required"
   ]
  },
  {
   "cell_type": "code",
   "execution_count": null,
   "id": "620c53a8",
   "metadata": {},
   "outputs": [],
   "source": [
    "def serial_date_to_string(srl_no):\n",
    "    \"\"\"Converts CCI serial number time to datetime\"\"\"\n",
    "    new_date = datetime.datetime(1970, 1, 1, 0, 0) + datetime.timedelta(srl_no)\n",
    "    return new_date\n",
    "def define_ROI(lat_upper, lat_lower, lon_upper, lon_lower):\n",
    "    \"\"\"Defines Region of Interest latitude and longitude to download\"\"\"\n",
    "    try:\n",
    "        lat_upper = int(lat_upper)\n",
    "        lat_lower = int(lat_lower)\n",
    "        lon_upper = int(lon_upper)\n",
    "        lon_lower = int(lon_lower)\n",
    "    except ValueError:\n",
    "        print(\"ERROR: Please enter correct latitude/longitude\")\n",
    "    LATBD = [lat_upper, lat_lower]\n",
    "    LONBD = [lon_lower, lon_upper]\n",
    "    print('Your region of interest is:')\n",
    "    print('Latitude:', LATBD)\n",
    "    print('Longitude:', LONBD)\n",
    "    return LATBD, LONBD\n",
    "def define_time(time_init, time_final):\n",
    "    \"\"\"Defines period of time of interest to download\"\"\"\n",
    "    try:\n",
    "        time_start_year = int(time_init[0:4])\n",
    "        time_start_month = int(time_init[5:7])\n",
    "        time_start_day = int(time_init[8:10])\n",
    "    except ValueError:\n",
    "        print(\"ERROR: Please enter correct initial date\")\n",
    "    try:\n",
    "        time_end_year = int(time_final[0:4])\n",
    "        time_end_month = int(time_final[5:7])\n",
    "        time_end_day = int(time_final[8:10])\n",
    "    except ValueError:\n",
    "        print(\"ERROR: Please enter correct final date\")\n",
    "    time_start_datetime = datetime.datetime(time_start_year, time_start_month, time_start_day)\n",
    "    time_end_datetime = datetime.datetime(time_end_year, time_end_month, time_end_day)\n",
    "    time_diff = (time_end_datetime-time_start_datetime).days+1\n",
    "    print('Your data timespan is:')\n",
    "    print('Initial date:', time_start)\n",
    "    print('Final date:', time_end)\n",
    "    print('That corresponds to', time_diff, 'days.')\n",
    "    return time_start_datetime, time_end_datetime\n",
    "def download_cci(lat_boundaries, lon_boundaries, time_init_date, time_final_date):\n",
    "    \"\"\"Downloads chl data from CCI v5 4km using previously defined\n",
    "    Region of Interest and Time Period by user\"\"\"\n",
    "    # Open netcdf4 file using OPENDAP\n",
    "    nc_in = nc4.Dataset('https://www.oceancolour.org/thredds/dodsC/CCI_ALL-v6.0-DAILY')\n",
    "    # Extract latitude and longitude\n",
    "    lati = nc_in.variables['lat'][:]\n",
    "    loni = nc_in.variables['lon'][:]\n",
    "    lat_lb = np.argmin(abs(lati-lat_boundaries[0])) #sets latitude lower boundary\n",
    "    lat_ub = np.argmin(abs(lati-lat_boundaries[1])) #sets latitude upper boundary\n",
    "    lon_lb = np.argmin(abs(loni-lon_boundaries[0])) #sets longitude lower boundary\n",
    "    lon_ub = np.argmin(abs(loni-lon_boundaries[1])) #sets longitude lower boundary\n",
    "    lon = np.array(nc_in.variables['lon'][lon_lb:lon_ub])\n",
    "    lat = np.array(nc_in.variables['lat'][lat_lb:lat_ub])\n",
    "    # Extract time\n",
    "    time_total = np.array(nc_in.variables['time'][:])\n",
    "    time_total_date = np.empty(len(time_total), dtype=np.object)\n",
    "    for i, item in enumerate(time_total):\n",
    "        time_total_date[i] = serial_date_to_string(int(time_total[i]))\n",
    "    time_start_ind = np.where(time_total_date == time_init_date)[0][0]\n",
    "    time_start_end = np.where(time_total_date == time_final_date)[0][0]+1\n",
    "    time_array = np.array(nc_in.variables['time'][time_start_ind:time_start_end])\n",
    "    time_array_date = np.empty(len(time_array), dtype=np.object)\n",
    "    for i, item in enumerate(time_array):\n",
    "        time_array_date[i] = serial_date_to_string(int(time_array[i]))\n",
    "    chl = np.array(nc_in.variables['chlor_a'][time_start_ind:time_start_end,\n",
    "                                              lat_lb:lat_ub, lon_lb:lon_ub])\n",
    "    # Swaps axes to lon, lat, time\n",
    "    chl = np.swapaxes(np.swapaxes(chl, 0, 2), 0, 1)\n",
    "    # Replaces invalid values with NaNs\n",
    "    chl[chl == 9.96921E36] = np.nan\n",
    "    return chl, lat, lon, time_array, time_array_date"
   ]
  },
  {
   "cell_type": "markdown",
   "id": "5fb3aae1",
   "metadata": {},
   "source": [
    "## First step: define the boundaries of region of interest (ROI)\n",
    "\n",
    "Provide the latitude/longitude coordinates for each corner of your area (has to be a square)."
   ]
  },
  {
   "cell_type": "code",
   "execution_count": null,
   "id": "47b06005",
   "metadata": {},
   "outputs": [],
   "source": [
    "### Define ROI\n",
    "#Please enter upper right corner latitude [-90-90°N]:\n",
    "lat_max = '44'\n",
    "#Please enter lower left corner latitude [-90-90°N]:\n",
    "lat_min = '36'\n",
    "#Please enter upper right corner longitude [-180-180°E]:\n",
    "lon_max = '-12'\n",
    "#Please enter lower left corner longitude [-180-180°E]:\n",
    "lon_min = '-6'\n",
    "LATBD, LONBD = define_ROI(lat_max, lat_min, lon_max, lon_min)"
   ]
  },
  {
   "cell_type": "markdown",
   "id": "d8118f9b",
   "metadata": {},
   "source": [
    "## Second step: define the temporal coverage of the data\n",
    "\n",
    "Provide the first and last day of the data which you want.\n",
    "\n",
    "Note: The dataset will include the last day."
   ]
  },
  {
   "cell_type": "code",
   "execution_count": null,
   "id": "56d61df4",
   "metadata": {},
   "outputs": [],
   "source": [
    "### Define timespan\n",
    "# Please enter initial day [YYYY-MM-DD]:\n",
    "time_start = '2018-10-10'\n",
    "# Please enter final day [YYYY-MM-DD]:\n",
    "time_end = '2018-10-11'\n",
    "time_start_datetime, time_end_datetime = define_time(time_start, time_end)"
   ]
  },
  {
   "cell_type": "markdown",
   "id": "b67cd109",
   "metadata": {},
   "source": [
    "## Download the data\n",
    "\n",
    "Important: do not try to download very large datasets as the OC-CCI will block them.\n",
    "\n",
    "If you want to download a large dataset, break it down in smaller time periods and use the script to join the smaller datasets (*OC-CCI_download_join.ipynb*)"
   ]
  },
  {
   "cell_type": "code",
   "execution_count": null,
   "id": "9962f07a",
   "metadata": {},
   "outputs": [],
   "source": [
    "#Please enter the desired name for the downloaded file\n",
    "filename_out_chl = 'cciv5_4km_chl_test'\n",
    "chl, lat, lon, time_array, time_array_date = download_cci(LATBD,\n",
    "                                                          LONBD,\n",
    "                                                          time_start_datetime,\n",
    "                                                          time_end_datetime)"
   ]
  },
  {
   "cell_type": "markdown",
   "id": "3368baf8",
   "metadata": {},
   "source": [
    "## Save the data\n",
    "\n",
    "By default, the dataset will save to your downloads folder. You can change this in the code if you want."
   ]
  },
  {
   "cell_type": "code",
   "execution_count": null,
   "id": "d09e0ec5",
   "metadata": {},
   "outputs": [],
   "source": [
    "### Save data in Downloads Folder by default\n",
    "os.chdir(str(Path.home() / \"Downloads\"))\n",
    "np.savez_compressed(filename_out_chl, lat=lat, lon=lon, chl=chl,\n",
    "                    time=time_array, time_date=time_array_date)"
   ]
  },
  {
   "cell_type": "markdown",
   "id": "8a496ba4",
   "metadata": {},
   "source": [
    "Note that this script will save files in numpy compressed files, a python-specific format which allows for smaller files.\n",
    "\n",
    "You can open them by using the following commands and then use the same commands that you learned in the previous Jupyter Notebooks.\n",
    "\n",
    "```python\n",
    "# Make sure the name of your file is correct\n",
    "dataset = np.load('yourfile.npz',allow_pickle = True)\n",
    "chl = dataset['chl']\n",
    "lat = dataset['lat']\n",
    "lon = dataset['lon']\n",
    "time = dataset['time_date']\n",
    "```"
   ]
  }
 ],
 "metadata": {
  "kernelspec": {
   "display_name": "Python 3 (ipykernel)",
   "language": "python",
   "name": "python3"
  },
  "language_info": {
   "codemirror_mode": {
    "name": "ipython",
    "version": 3
   },
   "file_extension": ".py",
   "mimetype": "text/x-python",
   "name": "python",
   "nbconvert_exporter": "python",
   "pygments_lexer": "ipython3",
   "version": "3.8.8"
  }
 },
 "nbformat": 4,
 "nbformat_minor": 5
}
