{
 "cells": [
  {
   "cell_type": "markdown",
   "id": "3ce987c9",
   "metadata": {},
   "source": [
    "## This Jupyter notebook will show you to perform basic calculations and plots with 2 dimensional data\n",
    "\n",
    "## We will compare four images, each corresponding to the mean Chl-a for each season of the year between 1998 and 2020:\n",
    "### * Winter - January to March\n",
    "### * Spring - April to June\n",
    "### * Summer - July to September\n",
    "### * Autumn - October to December\n",
    "\n",
    "Now, we will need to import several modules/libraries that are essential for nearly every scientific work in Python."
   ]
  },
  {
   "cell_type": "code",
   "execution_count": null,
   "id": "19caca5d",
   "metadata": {},
   "outputs": [],
   "source": [
    "import os #change folders\n",
    "import numpy as np # perform calculations and basic math\n",
    "import matplotlib.pyplot as plt # plot data\n",
    "import pandas as pd # work with dataframes,tables, spreadsheets, etc.\n",
    "import netCDF4 as nc4 # work with netcdf files, the standard file for satellite 2D and 3D data\n",
    "import cartopy #work with geographical projections and maps"
   ]
  },
  {
   "cell_type": "markdown",
   "id": "7b3441ab",
   "metadata": {},
   "source": [
    "## Now, lets load each image using the netCDF4 module."
   ]
  },
  {
   "cell_type": "code",
   "execution_count": null,
   "id": "620c53a8",
   "metadata": {},
   "outputs": [],
   "source": [
    "# Let's open the first image\n",
    "file = 'chl_winter_19982020.nc' #write the name of the file\n",
    "chl_winter19982020 = nc4.Dataset(file, mode='r') #open the file in python\n",
    "print(chl_winter19982020) #print full details of the image"
   ]
  },
  {
   "cell_type": "code",
   "execution_count": null,
   "id": "72a1be5d",
   "metadata": {},
   "outputs": [],
   "source": [
    "# You can also use fh.variables to read information only on the variables\n",
    "print(chl_winter19982020.variables)"
   ]
  },
  {
   "cell_type": "markdown",
   "id": "5fb3aae1",
   "metadata": {},
   "source": [
    "## Notice that you have the following variables:\n",
    "### * Latitude (degrees N - 1 dimensional)\n",
    "### * Longitude (degrees E - 1 dimensional)\n",
    "### * Chl-a (miligrams per cubic meter; mg/m3 - 2 dimensional)\n",
    "\n",
    "The structure of the netCDF file may change with the product and the creater of the product. For instance:\n",
    "* L2 and L3 images have different structures\n",
    "* Satellite images from ESA and NASA also have different structures\n",
    "\n",
    "It's important to pay attention to the content of a netcdf file before working with the data."
   ]
  },
  {
   "cell_type": "code",
   "execution_count": null,
   "id": "45420f9d",
   "metadata": {},
   "outputs": [],
   "source": [
    "# Extracting variables\n",
    "lon = np.array(chl_winter19982020['longitude'])\n",
    "lat = np.array(chl_winter19982020['latitude'])\n",
    "chl_winter = np.array(chl_winter19982020['Chl-a'])"
   ]
  },
  {
   "cell_type": "markdown",
   "id": "ed5b6ba4",
   "metadata": {},
   "source": [
    "## Now let's plot the satellite image!\n",
    "\n",
    "## For this we have to use two essential modules:\n",
    "* Cartopy to produce a map\n",
    "* Matplotlib for plotting the data"
   ]
  },
  {
   "cell_type": "code",
   "execution_count": null,
   "id": "afef3ae6",
   "metadata": {},
   "outputs": [],
   "source": [
    "plt.figure(figsize=(12,12)) #create the figure\n",
    "map = plt.axes(projection=cartopy.crs.PlateCarree()) # Choose the geographic projection, here we use PlateCarree\n",
    "f1 = map.pcolormesh(lon, lat, np.log10(chl_winter), vmin=np.log10(0.1), # log10 the data for better visualization\n",
    "                    vmax=np.log10(10), cmap=plt.cm.jet) #choosing the colormap"
   ]
  },
  {
   "cell_type": "markdown",
   "id": "c2171928",
   "metadata": {},
   "source": [
    "There are several things missing. We can improve how this image looks using Cartopy."
   ]
  },
  {
   "cell_type": "code",
   "execution_count": null,
   "id": "d09e0ec5",
   "metadata": {},
   "outputs": [],
   "source": [
    "plt.figure(figsize=(12,12))\n",
    "map = plt.axes(projection=cartopy.crs.PlateCarree())\n",
    "map.coastlines(resolution='10m', color='black', linewidth=1) #add a coastline\n",
    "map.set_extent([-15, -6, 36, 45]) # set the extent of the map to avoid blank spaces\n",
    "map.add_feature(cartopy.feature.NaturalEarthFeature(category='physical', name='land', #add different color to land\n",
    "                                                    scale='10m',\n",
    "                                                    facecolor=cartopy.feature.COLORS['land']))\n",
    "f1 = map.pcolormesh(lon, lat, np.log10(chl_winter), vmin=np.log10(0.1),\n",
    "                    vmax=np.log10(10), cmap=plt.cm.jet)\n",
    "gl = map.gridlines(draw_labels=True, alpha=0.5, linestyle='dotted', color='black') # Add gridlines\n",
    "plt.xticks(fontsize=14) #increase size of ticks\n",
    "plt.yticks(fontsize=14)\n",
    "cbar = plt.colorbar(f1, ticks=[np.log10(0.1), np.log10(0.5), np.log10(1), np.log10(3), np.log10(10)]) #add a colorbar\n",
    "cbar.ax.set_yticklabels(['0.1', '0.5', '1', '3', '10'], fontsize=14)\n",
    "cbar.set_label('Clorophyll $\\it{a}$ (mg.m$^{-3}$)', fontsize=14) #add a label to the colorbar"
   ]
  },
  {
   "cell_type": "markdown",
   "id": "46f2866f",
   "metadata": {},
   "source": [
    "## Now let's load the remaining images (Spring, Summer, Autumn)"
   ]
  },
  {
   "cell_type": "code",
   "execution_count": null,
   "id": "150988ee",
   "metadata": {},
   "outputs": [],
   "source": [
    "# Spring image\n",
    "file = 'chl_spring_19982020.nc' #write the name of the file\n",
    "chl_spring19982020 = nc4.Dataset(file, mode='r') #open the file in python\n",
    "chl_spring = np.array(chl_spring19982020['Chl-a'])\n",
    "# Summer image\n",
    "file = 'chl_summer_19982020.nc' #write the name of the file\n",
    "chl_summer19982020 = nc4.Dataset(file, mode='r') #open the file in python\n",
    "chl_summer = np.array(chl_summer19982020['Chl-a'])\n",
    "# Autumn image\n",
    "file = 'chl_autumn_19982020.nc' #write the name of the file\n",
    "chl_autumn19982020 = nc4.Dataset(file, mode='r') #open the file in python\n",
    "chl_autumn = np.array(chl_autumn19982020['Chl-a'])"
   ]
  },
  {
   "cell_type": "code",
   "execution_count": null,
   "id": "36597019",
   "metadata": {},
   "outputs": [],
   "source": [
    "## Let's plot them together this time!\n",
    "fig, axs = plt.subplots(nrows=2,ncols=2, #Creates a 2x2 subplots figure\n",
    "                        subplot_kw={'projection': cartopy.crs.PlateCarree()}, #define projection\n",
    "                        figsize=(11,11)) # Define the size of the figure\n",
    "\n",
    "# Plot First Subplot - Winter\n",
    "axs[0,0].coastlines(resolution='10m', color='black', linewidth=1)\n",
    "axs[0,0].set_extent([-15, -6, 36, 45])\n",
    "axs[0,0].add_feature(cartopy.feature.NaturalEarthFeature(category='physical', name='land',\n",
    "                                                    scale='10m',\n",
    "                                                    facecolor=cartopy.feature.COLORS['land']))\n",
    "f1 = axs[0,0].pcolormesh(lon, lat, np.log10(chl_winter), vmin=np.log10(0.1),\n",
    "                    vmax=np.log10(10), cmap=plt.cm.jet)\n",
    "gl = axs[0,0].gridlines(draw_labels=True, alpha=0.5, linestyle='dotted', color='black')\n",
    "axs[0,0].set_title('Winter', fontsize=20)\n",
    "# Spring\n",
    "axs[0,1].coastlines(resolution='10m', color='black', linewidth=1)\n",
    "axs[0,1].set_extent([-15, -6, 36, 45])\n",
    "axs[0,1].add_feature(cartopy.feature.NaturalEarthFeature(category='physical', name='land',\n",
    "                                                    scale='10m',\n",
    "                                                    facecolor=cartopy.feature.COLORS['land']))\n",
    "f1 = axs[0,1].pcolormesh(lon, lat, np.log10(chl_spring), vmin=np.log10(0.1),\n",
    "                    vmax=np.log10(10), cmap=plt.cm.jet)\n",
    "gl = axs[0,1].gridlines(draw_labels=True, alpha=0.5, linestyle='dotted', color='black')\n",
    "axs[0,1].set_title('Spring', fontsize=20)\n",
    "# Summer\n",
    "axs[1,0].coastlines(resolution='10m', color='black', linewidth=1)\n",
    "axs[1,0].set_extent([-15, -6, 36, 45])\n",
    "axs[1,0].add_feature(cartopy.feature.NaturalEarthFeature(category='physical', name='land',\n",
    "                                                    scale='10m',\n",
    "                                                    facecolor=cartopy.feature.COLORS['land']))\n",
    "f1 = axs[1,0].pcolormesh(lon, lat, np.log10(chl_summer), vmin=np.log10(0.1),\n",
    "                    vmax=np.log10(10), cmap=plt.cm.jet)\n",
    "gl = axs[1,0].gridlines(draw_labels=True, alpha=0.5, linestyle='dotted', color='black')\n",
    "axs[1,0].set_title('Summer', fontsize=20)\n",
    "# Autumn\n",
    "axs[1,1].coastlines(resolution='10m', color='black', linewidth=1)\n",
    "axs[1,1].set_extent([-15, -6, 36, 45])\n",
    "axs[1,1].add_feature(cartopy.feature.NaturalEarthFeature(category='physical', name='land',\n",
    "                                                    scale='10m',\n",
    "                                                    facecolor=cartopy.feature.COLORS['land']))\n",
    "f1 = axs[1,1].pcolormesh(lon, lat, np.log10(chl_autumn), vmin=np.log10(0.1),\n",
    "                    vmax=np.log10(10), cmap=plt.cm.jet)\n",
    "gl = axs[1,1].gridlines(draw_labels=True, alpha=0.5, linestyle='dotted', color='black')\n",
    "axs[1,1].set_title('Autumn', fontsize=20)\n",
    "# Now, let's add a \"giant\" colorbar right to our subplots\n",
    "fig.subplots_adjust(right=0.8) \n",
    "cbar_ax = fig.add_axes([0.9, 0.15, 0.05, 0.7])\n",
    "cbar = fig.colorbar(f1, cax=cbar_ax, ticks=[np.log10(0.1), np.log10(0.5), np.log10(1), np.log10(3), np.log10(10)])\n",
    "cbar.ax.set_yticklabels(['0.1', '0.5', '1', '3', '10'], fontsize=14)\n",
    "cbar.set_label('Chl-$\\it{a}$ (mg.m$^{-3}$)', fontsize=20)"
   ]
  },
  {
   "cell_type": "markdown",
   "id": "d9be38d3",
   "metadata": {},
   "source": [
    "## Now, how do we compare each image using basic statistics?\n",
    "\n",
    "### We have to convert the information to 1 dimension again."
   ]
  },
  {
   "cell_type": "code",
   "execution_count": null,
   "id": "8ed7b53a",
   "metadata": {},
   "outputs": [],
   "source": [
    "# Converting Winter image to 1D\n",
    "Winter_1D = chl_winter.ravel()\n",
    "print(Winter_1D) # print vector\n",
    "print(Winter_1D.shape) # print shape - let us know how many dimensions the data has and how long each of them is\n",
    "# Converting Summer image to 1D\n",
    "Summer_1D = chl_summer.ravel()"
   ]
  },
  {
   "cell_type": "code",
   "execution_count": null,
   "id": "2bb51b4e",
   "metadata": {},
   "outputs": [],
   "source": [
    "# Comparing the Winter and Summer Chl-a for the entire image\n",
    "# Always remember to remove the missing values!\n",
    "# np.isnan() identifies the missing values\n",
    "# if we wanted to keep only the missing values, then we would want Winter_1D[np.isnan(Winter_1D)]\n",
    "# The ~ before the np.isnan() does the opposite, we exclude the missing values!\n",
    "plt.boxplot([Winter_1D[~np.isnan(Winter_1D)], Summer_1D[~np.isnan(Summer_1D)]]) #remeber to take out the missing values!\n",
    "plt.ylim(0, 1)\n",
    "plt.xticks(ticks=[1,2], labels=['Winter', 'Summer'])"
   ]
  },
  {
   "cell_type": "markdown",
   "id": "119c1dbb",
   "metadata": {},
   "source": [
    "### We can also choose a subset to compare instead of comparing the entire image\n",
    "### For instance, let's choose the first 100 pixels in the upper left corner of the image (in the northern oceanic waters) and just compare those!\n",
    "\n",
    "Note that both latitude and longitude have 216 pixels in lenght\n",
    "Thus, we want the first 10 from each (10 x 10 = 100)!\n",
    "\n",
    "If you remember, our chlorophyll-a data for each season has the following dimensions: Lat X Lon (216 X 216)"
   ]
  },
  {
   "cell_type": "code",
   "execution_count": null,
   "id": "a112eb0b",
   "metadata": {},
   "outputs": [],
   "source": [
    "print(lat[0:10])\n",
    "print(lon[0:10])\n",
    "chl_winter_subset = chl_winter[0:10, 0:10]\n",
    "chl_winter_subset_1D = chl_winter_subset.ravel()\n",
    "chl_winter_subset.shape\n",
    "#np.dim(chl_winter_subset)\n",
    "print(chl_winter_subset)"
   ]
  },
  {
   "cell_type": "code",
   "execution_count": null,
   "id": "8c954cec",
   "metadata": {},
   "outputs": [],
   "source": [
    "lat[-5]"
   ]
  },
  {
   "cell_type": "markdown",
   "id": "0a9f1181",
   "metadata": {},
   "source": [
    "We can use matplotlib options to improve our plot."
   ]
  },
  {
   "cell_type": "code",
   "execution_count": null,
   "id": "387e04e0",
   "metadata": {},
   "outputs": [],
   "source": [
    "chl_summer_subset = chl_summer[0:10, 0:10]\n",
    "chl_summer_subset_1D = chl_summer_subset.ravel()\n",
    "chl_spring_subset = chl_spring[0:10, 0:10]\n",
    "chl_spring_subset_1D = chl_spring_subset.ravel()\n",
    "chl_autumn_subset = chl_autumn[0:10, 0:10]\n",
    "chl_autumn_subset_1D = chl_autumn_subset.ravel()\n",
    "#Comparing Seasons Chl-a for our new subset!\n",
    "plt.boxplot([chl_winter_subset_1D, chl_spring_subset_1D, chl_summer_subset_1D, chl_autumn_subset_1D])\n",
    "#plt.ylim(0, 1)\n",
    "plt.xticks(ticks=[1,2,3,4], labels=['Winter', 'Spring', 'Summer', 'Autumn'])"
   ]
  }
 ],
 "metadata": {
  "kernelspec": {
   "display_name": "Python 3 (ipykernel)",
   "language": "python",
   "name": "python3"
  },
  "language_info": {
   "codemirror_mode": {
    "name": "ipython",
    "version": 3
   },
   "file_extension": ".py",
   "mimetype": "text/x-python",
   "name": "python",
   "nbconvert_exporter": "python",
   "pygments_lexer": "ipython3",
   "version": "3.8.8"
  }
 },
 "nbformat": 4,
 "nbformat_minor": 5
}
