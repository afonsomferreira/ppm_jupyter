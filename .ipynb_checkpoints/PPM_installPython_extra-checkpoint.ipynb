{
 "cells": [
  {
   "cell_type": "markdown",
   "id": "0a1b5d2e",
   "metadata": {},
   "source": [
    "# This notebook will show how to quickly install Python on your computer using Anaconda"
   ]
  },
  {
   "attachments": {},
   "cell_type": "markdown",
   "id": "505c770d",
   "metadata": {},
   "source": [
    "## Installing Anaconda\n",
    "\n",
    "![Anaconda Logo](https://upload.wikimedia.org/wikipedia/en/c/cd/Anaconda_Logo.png)\n",
    "\n",
    "### First, what is Anaconda? \n",
    "\n",
    "It's a desktop GUI (Graphical User Interface) that makes it easy to launch applications and manage packages and environments without using command-line commands\n",
    "\n",
    "Think of it as kind of Microsoft Office. Instead of having to download Powerpoint, Excel, Word separately, Microsoft Office offers all applications together.\n",
    "\n",
    "### Is it free? \n",
    "\n",
    "Yes. Although you have premium versions for companies that offer more services.\n",
    "\n",
    "### Where can I download it? \n",
    "\n",
    "Here for all options: https://docs.anaconda.com/anaconda/install/\n",
    "\n",
    "Here is the quick link for Windows: https://repo.anaconda.com/archive/Anaconda3-2021.11-Windows-x86_64.exe\n",
    "\n",
    "Here is the quick link for Mac: https://repo.anaconda.com/archive/Anaconda3-2021.11-MacOSX-x86_64.pkg\n",
    "\n",
    "### What now?\n",
    "\n",
    "Now you can follow the instructions in the link until you finish the instalation: https://docs.anaconda.com/anaconda/install/windows/\n",
    "\n",
    "### How does Anaconda work?\n",
    "\n",
    "When you open it, you will have several applications there.\n",
    "\n",
    "![Anaconda Navigator](https://docs.anaconda.com/_images/nav-defaults.png)\n",
    "\n",
    "Just click on one of the applications (Spyder or Pycharm for Python | RStudio for R | Jupyter Notebook for Interactive Python)\n",
    "\n",
    "### How do I repeat the exercises done in Jupyter Notebook?\n",
    "\n",
    "Just open the Jupyter Notebook app in Anaconda by clicking on it.\n",
    "\n",
    "![Jupyter Notebook](https://i.ibb.co/T47yZKj/anaconda.png)\n",
    "\n",
    "And make sure the jupyter notebook files (.ipynb) are in the same folder as the data required for the class."
   ]
  }
 ],
 "metadata": {
  "kernelspec": {
   "display_name": "Python 3",
   "language": "python",
   "name": "python3"
  },
  "language_info": {
   "codemirror_mode": {
    "name": "ipython",
    "version": 3
   },
   "file_extension": ".py",
   "mimetype": "text/x-python",
   "name": "python",
   "nbconvert_exporter": "python",
   "pygments_lexer": "ipython3",
   "version": "3.8.8"
  }
 },
 "nbformat": 4,
 "nbformat_minor": 5
}
