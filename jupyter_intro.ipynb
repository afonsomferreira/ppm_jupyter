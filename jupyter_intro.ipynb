{
 "cells": [
  {
   "cell_type": "code",
   "execution_count": 1,
   "id": "ac76f0c1",
   "metadata": {},
   "outputs": [],
   "source": [
    "### Welcome to a Jupyter Notebook ###\n",
    "## Just a quick introduction\n",
    "# 1) You can change the name of your jupyter notebook by clicking on the name that appears in the header"
   ]
  },
  {
   "cell_type": "code",
   "execution_count": 2,
   "id": "9f83f22a",
   "metadata": {},
   "outputs": [],
   "source": [
    "# 2) If you have worked with R, Python, MATLAB, a jupyter notebook functions as a script divided by cells.\n",
    "# This is a cell #\n",
    "# Cells are useful when you want to show something step by step. Think of slides in a powerpoint presentation "
   ]
  },
  {
   "cell_type": "code",
   "execution_count": 3,
   "id": "21965412",
   "metadata": {},
   "outputs": [],
   "source": [
    "# 3) You write the commands, then run the cell.\n",
    "# 3.1) The \"Run\" button on top runs the current cell. Also Ctrl + Enter.\n",
    "# 3.2) In the \"Cell\" menu (header), you can also select \"Run All\" and other options."
   ]
  },
  {
   "cell_type": "code",
   "execution_count": 4,
   "id": "cb1ca55d",
   "metadata": {},
   "outputs": [],
   "source": [
    "# 4) If you want to reset your notebook, just go to  Kernel > Restart & Clear Output"
   ]
  },
  {
   "cell_type": "code",
   "execution_count": 5,
   "id": "1653e36a",
   "metadata": {},
   "outputs": [
    {
     "name": "stdout",
     "output_type": "stream",
     "text": [
      "This is a Jupyter Notebook!\n",
      "4\n",
      "1.0\n",
      "4\n",
      "0\n"
     ]
    }
   ],
   "source": [
    "# Testing\n",
    "print('This is a Jupyter Notebook!')\n",
    "print(2+2)\n",
    "print(2/2)\n",
    "print(2*2)\n",
    "print(2-2)"
   ]
  },
  {
   "cell_type": "code",
   "execution_count": 6,
   "id": "90e92661",
   "metadata": {},
   "outputs": [
    {
     "data": {
      "text/plain": [
       "0"
      ]
     },
     "execution_count": 6,
     "metadata": {},
     "output_type": "execute_result"
    }
   ],
   "source": [
    "# 5) Note that if you run several expressions, only the output of the last one will show if you do not use print()\n",
    "2+2\n",
    "2/2\n",
    "2*2\n",
    "2-2\n",
    "# Here, only 0 will appear as an output"
   ]
  },
  {
   "cell_type": "code",
   "execution_count": 7,
   "id": "96e938f5",
   "metadata": {},
   "outputs": [
    {
     "name": "stdout",
     "output_type": "stream",
     "text": [
      "10\n"
     ]
    }
   ],
   "source": [
    "# 6) Just like another programming languages, you can assign values to variables\n",
    "a = 5\n",
    "b = 5\n",
    "print(a+b)"
   ]
  },
  {
   "cell_type": "code",
   "execution_count": 8,
   "id": "f8dc03f7",
   "metadata": {},
   "outputs": [],
   "source": [
    "# 7) In Jupyter notebooks, you have two main types of cells (Cell > Cell Type):\n",
    "# - Code cell (the ones we are using, where you write your code)\n",
    "# - Markdown cell (Text formatting)"
   ]
  },
  {
   "cell_type": "markdown",
   "id": "f8aa2ab7",
   "metadata": {},
   "source": [
    "This is a Markdown cell.\n",
    "\n",
    "Here you can write whatever you want. However, you can't run code here.\n",
    "\n",
    "Using different codes, I can write as:\n",
    "\n",
    "*italic*\n",
    "\n",
    "**bold**\n",
    "\n",
    "<ins>underlined</ins>\n",
    "\n",
    "Or use Headers:\n",
    "# Header 1\n",
    "## Header 2\n",
    "### Header 3\n",
    "\n",
    "Or use lists:\n",
    "\n",
    "* a\n",
    "* b\n",
    "* c\n",
    "    * c1\n",
    "    * c2\n",
    "* d\n",
    "\n",
    "You can also write code if you want to show something as an example:\n",
    "```python\n",
    "print('This is a Jupyter Notebook!')\n",
    "print(2+2)\n",
    "print(2/2)\n",
    "print(2*2)\n",
    "print(2-2)\n",
    "```\n",
    "\n",
    "### **IMPORTANT: If you want to edit your Markdown cell, just double click on it.**"
   ]
  },
  {
   "cell_type": "markdown",
   "id": "e5c6fe0a",
   "metadata": {},
   "source": [
    "Finally, you can export your Jupyter Notebook using \"File > Download as\" in the Menu!\n",
    "\n",
    "You can download in these formats:\n",
    "* HTML\n",
    "* LaTeX\n",
    "* PDF\n",
    "* Python (.py)\n",
    "* etc."
   ]
  }
 ],
 "metadata": {
  "kernelspec": {
   "display_name": "Python 3",
   "language": "python",
   "name": "python3"
  },
  "language_info": {
   "codemirror_mode": {
    "name": "ipython",
    "version": 3
   },
   "file_extension": ".py",
   "mimetype": "text/x-python",
   "name": "python",
   "nbconvert_exporter": "python",
   "pygments_lexer": "ipython3",
   "version": "3.8.8"
  }
 },
 "nbformat": 4,
 "nbformat_minor": 5
}
