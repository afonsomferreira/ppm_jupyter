{
 "cells": [
  {
   "cell_type": "markdown",
   "id": "6bbcbf86",
   "metadata": {},
   "source": [
    "Joins different datafiles downloaded with \"OC-CCI download\" jupyter notebook along the temporal dimension of the dataset.\n",
    "\n",
    "Make sure that:\n",
    "* data is stored in .npz files\n",
    "* all .npz files are in the same folder\n",
    "* the files are in the correct alphabetical and temporal order\n",
    "* the spatial extent of the dateset is the same (same latitude/longitude)\n",
    "* the name of the variables match.\n",
    "\n",
    "The new, joined dataset will be created in the same folder."
   ]
  },
  {
   "cell_type": "code",
   "execution_count": null,
   "id": "9f83f22a",
   "metadata": {},
   "outputs": [],
   "source": [
    "import os\n",
    "import sys\n",
    "import glob\n",
    "import numpy as np\n",
    "def join_datafiles(file_directory):\n",
    "    \"\"\"Joins 3D CCI chl datafiles created using the CCI_chl_download_user.py script\n",
    "    along the time dimension\"\"\"\n",
    "    file_names = glob.glob1(file_dir, \"*.npz\")\n",
    "    ### Confirm datafiles\n",
    "    print('This directory has ' + str(len(file_names)) + ' .npz data files.')\n",
    "    for i in file_names[-1]:\n",
    "        print(i)\n",
    "        file_temp = np.load(i, allow_pickle=True)\n",
    "        chl_temp = np.float16(file_temp['chl'])\n",
    "        time_temp = file_temp['time']\n",
    "        time_date_temp = file_temp['time_date']\n",
    "        if i == file_names[0]:\n",
    "            chl = chl_temp\n",
    "            lat = file_temp['lat']\n",
    "            lon = file_temp['lon']\n",
    "            time = time_temp\n",
    "            time_date = time_date_temp\n",
    "        else:\n",
    "            chl = np.dstack((chl, chl_temp))\n",
    "            time = np.hstack((time, time_temp))\n",
    "            time_date = np.hstack((time_date, time_date_temp))\n",
    "        del(file_temp, chl_temp, time_temp, time_date_temp)\n",
    "    return chl, lat, lon, time, time_date"
   ]
  },
  {
   "cell_type": "code",
   "execution_count": null,
   "id": "8c7e9a05",
   "metadata": {},
   "outputs": [],
   "source": [
    "### Make sure your directory is correct!\n",
    "file_dir = 'C:\\\\Users\\\\afons\\\\Documents\\\\myOC-CCIdataset'\n",
    "os.chdir(file_dir)\n",
    "### Loads and joins every file\n",
    "chl, lat, lon, time, time_date = join_datafiles(file_dir)\n",
    "### Save as a unique file\n",
    "np.savez_compressed('data_joined', lat=lat, lon=lon, chl=chl,\n",
    "                    time=time, time_date=time_date)"
   ]
  }
 ],
 "metadata": {
  "kernelspec": {
   "display_name": "Python 3 (ipykernel)",
   "language": "python",
   "name": "python3"
  },
  "language_info": {
   "codemirror_mode": {
    "name": "ipython",
    "version": 3
   },
   "file_extension": ".py",
   "mimetype": "text/x-python",
   "name": "python",
   "nbconvert_exporter": "python",
   "pygments_lexer": "ipython3",
   "version": "3.8.8"
  }
 },
 "nbformat": 4,
 "nbformat_minor": 5
}
